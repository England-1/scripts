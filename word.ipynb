{
 "cells": [
  {
   "cell_type": "code",
   "execution_count": 61,
   "id": "260ace0f-574e-4f00-bbf5-900dcabec267",
   "metadata": {},
   "outputs": [],
   "source": [
    "dates = [20181009,20180816,20180807]"
   ]
  },
  {
   "cell_type": "code",
   "execution_count": 62,
   "id": "9ae61698-a070-4793-bb73-9b5f92cdefc7",
   "metadata": {},
   "outputs": [],
   "source": [
    "from tzwhere import tzwhere\n",
    "import pandas as pd\n",
    "import numpy as np\n",
    "import pyautogui\n",
    "import datetime\n",
    "import argparse\n",
    "import shutil\n",
    "import glob\n",
    "import time\n",
    "import pytz\n",
    "import sys\n",
    "import os\n",
    "import warnings\n",
    "warnings.filterwarnings(\"ignore\")"
   ]
  },
  {
   "cell_type": "code",
   "execution_count": 81,
   "id": "ab08ae64-125d-4a4f-8ca6-2451fc47d08b",
   "metadata": {},
   "outputs": [
    {
     "data": {
      "text/plain": [
       "[20181009, 20180816, 20180807]"
      ]
     },
     "execution_count": 81,
     "metadata": {},
     "output_type": "execute_result"
    }
   ],
   "source": [
    "dates"
   ]
  },
  {
   "cell_type": "code",
   "execution_count": 90,
   "id": "0d31a9ca-3f52-41c6-b7f5-20933c3f2157",
   "metadata": {},
   "outputs": [
    {
     "name": "stdout",
     "output_type": "stream",
     "text": [
      "1\n",
      "3\n",
      "2\n",
      "October 09, 2018: /nTesting Next Line\n"
     ]
    }
   ],
   "source": [
    "for i in dates:\n",
    "    date_adj = datetime.datetime.strptime(str(i), \"%Y%m%d\").strftime(\"%B %d, %Y:\")\n",
    "    lines = [f'{date_adj} /n',f'Testing Next Line']\n",
    "\n",
    "    if i ==  dates[0]:\n",
    "        print('1')\n",
    "        file1 = open(\"myfile3.txt\", \"w\")\n",
    "        file1.writelines(lines)\n",
    "        file1.close()\n",
    "\n",
    "    elif i == dates[-1]:\n",
    "        print('2')\n",
    "        file1 = open(\"myfile3.txt\", \"r\")\n",
    "        print(file1.read())\n",
    "        file1.close()\n",
    "\n",
    "    else:      \n",
    "        print('3')\n",
    "        file1 = open(\"myfile2.txt\", \"a\")\n",
    "        file1.writelines(lines)\n",
    "        file1.close()\n",
    "\n",
    "\n"
   ]
  },
  {
   "cell_type": "code",
   "execution_count": null,
   "id": "408fb52f-8f3a-4b89-aa3c-fb9ae3281530",
   "metadata": {},
   "outputs": [],
   "source": []
  },
  {
   "cell_type": "code",
   "execution_count": 73,
   "id": "8adf1818-6144-4dbf-a8ac-3b412c8e7175",
   "metadata": {},
   "outputs": [
    {
     "data": {
      "text/plain": [
       "['August 07, 2018: /n', 'Testing Next Line']"
      ]
     },
     "execution_count": 73,
     "metadata": {},
     "output_type": "execute_result"
    }
   ],
   "source": [
    "lines"
   ]
  },
  {
   "cell_type": "code",
   "execution_count": 54,
   "id": "e6746759-54b6-4af4-9365-b3cd9ce80331",
   "metadata": {},
   "outputs": [
    {
     "name": "stdout",
     "output_type": "stream",
     "text": [
      "Output of Readlines after appending\n",
      "This is Delhi \n",
      "This is Paris \n",
      "This is London \n",
      "Today \n",
      "\n",
      "\n",
      "Output of Readlines after writing\n",
      "Tomorrow \n",
      "\n",
      "\n"
     ]
    }
   ],
   "source": [
    "# Python program to illustrate\n",
    "# Append vs write mode\n",
    "file1 = open(\"myfile.txt\", \"w\")\n",
    "L = [\"This is Delhi \\n\", \"This is Paris \\n\", \"This is London \\n\"]\n",
    "file1.writelines(L)\n",
    "file1.close()\n",
    " \n",
    "# Append-adds at last\n",
    "file1 = open(\"myfile.txt\", \"a\")  # append mode\n",
    "file1.write(\"Today \\n\")\n",
    "file1.close()\n",
    " \n",
    "file1 = open(\"myfile.txt\", \"r\")\n",
    "print(\"Output of Readlines after appending\")\n",
    "print(file1.read())\n",
    "print()\n",
    "file1.close()\n",
    " \n",
    "# Write-Overwrites\n",
    "file1 = open(\"myfile.txt\", \"w\")  # write mode\n",
    "file1.write(\"Tomorrow \\n\")\n",
    "file1.close()\n",
    " \n",
    "file1 = open(\"myfile.txt\", \"r\")\n",
    "print(\"Output of Readlines after writing\")\n",
    "print(file1.read())\n",
    "print()\n",
    "file1.close()"
   ]
  },
  {
   "cell_type": "code",
   "execution_count": null,
   "id": "fbe9f8fa-0b8d-4c03-9586-7547d443d6d5",
   "metadata": {},
   "outputs": [],
   "source": []
  }
 ],
 "metadata": {
  "kernelspec": {
   "display_name": "Python 3 (ipykernel)",
   "language": "python",
   "name": "python3"
  },
  "language_info": {
   "codemirror_mode": {
    "name": "ipython",
    "version": 3
   },
   "file_extension": ".py",
   "mimetype": "text/x-python",
   "name": "python",
   "nbconvert_exporter": "python",
   "pygments_lexer": "ipython3",
   "version": "3.10.9"
  }
 },
 "nbformat": 4,
 "nbformat_minor": 5
}
