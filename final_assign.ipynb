{
 "cells": [
  {
   "cell_type": "markdown",
   "metadata": {},
   "source": [
    "### Week 6 Final Assignment: Create and Share your Jupyter Notebook - JE\n",
    "---\n"
   ]
  },
  {
   "cell_type": "markdown",
   "metadata": {},
   "source": [
    "Greetings, this is the introduction of my notebook..."
   ]
  },
  {
   "cell_type": "markdown",
   "metadata": {},
   "source": [
    "##### Exercise 2 - Create a markdown cell with the title of the notebook. (1 pt)\n",
    "##### Exercise 3 - Create a markdown cell for an introduction. (1 pt)\n",
    "\n",
    "(Both Shown Above)"
   ]
  },
  {
   "cell_type": "markdown",
   "metadata": {},
   "source": [
    "##### Exercise 4 - Create a markdown cell to list data science languages. (3 pts)\n",
    "The following languages are used in Data Science:\n",
    "- Python\n",
    "- R\n",
    "- Scala\n",
    "- SQL\n",
    "- Julia\n",
    "- Other Languages include but are not limited to Java, Java Script, C++, Ruby..."
   ]
  },
  {
   "cell_type": "markdown",
   "metadata": {},
   "source": [
    "##### Exercise 5 - Create a markdown cell to list data science libraries. (3 pts)\n",
    "The following libraries are used in Data Science:\n",
    "- Pandas\n",
    "- Plotly\n",
    "- Dash\n",
    "- TensorFlow\n",
    "- Matplotlib\n",
    "- Many More..."
   ]
  },
  {
   "cell_type": "markdown",
   "metadata": {},
   "source": [
    "##### Exercise 6 - Create a markdown cell with a table of Data Science tools. (3 pts)\n",
    "The following is a markdown cell table with Data Science Tools:\n",
    "\n",
    "\n",
    "| Apache Spark | TensorFlow | SAS |\n",
    "| --- | --- | --- |\n",
    "| Scikit | Weka | Tableau |"
   ]
  },
  {
   "cell_type": "markdown",
   "metadata": {},
   "source": [
    "##### Exercise 7 - Create a markdown cell introducing arithmetic expression examples. (1 pt)\n"
   ]
  },
  {
   "cell_type": "code",
   "execution_count": 15,
   "metadata": {},
   "outputs": [
    {
     "data": {
      "text/plain": [
       "30"
      ]
     },
     "execution_count": 15,
     "metadata": {},
     "output_type": "execute_result"
    }
   ],
   "source": [
    "# Arithmetic Expression Example #1\n",
    "import math\n",
    "ari = compile(\"10 + 20\", \"<string>\", \"eval\")\n",
    "eval(ari)"
   ]
  },
  {
   "cell_type": "code",
   "execution_count": 16,
   "metadata": {},
   "outputs": [
    {
     "data": {
      "text/plain": [
       "0.5"
      ]
     },
     "execution_count": 16,
     "metadata": {},
     "output_type": "execute_result"
    }
   ],
   "source": [
    "# Arithmetic Expression Example #2\n",
    "ari2 = compile(\"10 / 20\", \"<string>\", \"eval\")\n",
    "eval(ari2)"
   ]
  },
  {
   "cell_type": "markdown",
   "metadata": {},
   "source": [
    "##### Exercise 8 - Create a code cell to multiply and add numbers. (2 pts)\n"
   ]
  },
  {
   "cell_type": "code",
   "execution_count": 17,
   "metadata": {},
   "outputs": [
    {
     "data": {
      "text/plain": [
       "288"
      ]
     },
     "execution_count": 17,
     "metadata": {},
     "output_type": "execute_result"
    }
   ],
   "source": [
    "(12*12)+144"
   ]
  },
  {
   "cell_type": "markdown",
   "metadata": {},
   "source": [
    "##### Exercise 9 - Create a code cell to convert minutes to hours. (2 pts)\n"
   ]
  },
  {
   "cell_type": "code",
   "execution_count": 18,
   "metadata": {},
   "outputs": [
    {
     "data": {
      "text/plain": [
       "'180 minutes converts to 3.0 hours'"
      ]
     },
     "execution_count": 18,
     "metadata": {},
     "output_type": "execute_result"
    }
   ],
   "source": [
    "def min_to_hrs(x):\n",
    "    y = x / 60\n",
    "    return f'{x} minutes converts to {y} hours'\n",
    "\n",
    "min_to_hrs(180)"
   ]
  },
  {
   "cell_type": "markdown",
   "metadata": {},
   "source": [
    "##### Exercise 10 - Insert a markdown cell to list Objectives. (3 pts)\n"
   ]
  },
  {
   "cell_type": "markdown",
   "metadata": {},
   "source": [
    "Objectives:\n",
    "\n",
    "- List popular languages that Data Scientists use.\n",
    "- List commonly used libraries used by Data Scientists.\n",
    "- Comment on Data Science tools."
   ]
  },
  {
   "cell_type": "markdown",
   "metadata": {},
   "source": [
    "##### Exercise 11 - Create a markdown cell to indicate the Author’s name. (2 pts)\n"
   ]
  },
  {
   "cell_type": "markdown",
   "metadata": {},
   "source": [
    "### Author\n",
    "##### John E."
   ]
  },
  {
   "cell_type": "markdown",
   "metadata": {},
   "source": [
    "##### Exercise 12 - Share your notebook through GitHub (3 pts)\n",
    "Done"
   ]
  },
  {
   "cell_type": "markdown",
   "metadata": {},
   "source": [
    "##### Exercise 13 - Take a screenshot of the first page of the notebook. (1 pt)\n",
    "Done"
   ]
  }
 ],
 "metadata": {
  "kernelspec": {
   "display_name": "Python 3",
   "language": "python",
   "name": "python3"
  },
  "language_info": {
   "codemirror_mode": {
    "name": "ipython",
    "version": 3
   },
   "file_extension": ".py",
   "mimetype": "text/x-python",
   "name": "python",
   "nbconvert_exporter": "python",
   "pygments_lexer": "ipython3",
   "version": "3.11.5"
  }
 },
 "nbformat": 4,
 "nbformat_minor": 2
}
