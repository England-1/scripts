{
 "cells": [
  {
   "cell_type": "markdown",
   "id": "1a763bfe",
   "metadata": {},
   "source": [
    "# Download Images embedded within URL\n",
    "---"
   ]
  },
  {
   "cell_type": "markdown",
   "id": "2124ba4f",
   "metadata": {},
   "source": [
    "<div class=\"alert alert-block alert-info\">\n",
    "<b>Note:</b> Script adjusted to download CoCoRaHS Station Maps\n",
    "</div>"
   ]
  },
  {
   "cell_type": "code",
   "execution_count": 12,
   "id": "83b37e83",
   "metadata": {},
   "outputs": [],
   "source": [
    "def check_for_image(response):\n",
    "   \n",
    "    #Using imaghdr module to verify the signature of the image.\n",
    "    if 'image' in response.headers['Content-Type']:\n",
    "        image_type = imghdr.what('', response.content)\n",
    "        if image_type:\n",
    "            print(\"Image type detected: {0}\".format(image_type))\n",
    "            return True\n",
    "        else:\n",
    "            print(\"Error: Unable to verify the signature of the image\")\n",
    "            exit(1)\n",
    "    return False"
   ]
  },
  {
   "cell_type": "code",
   "execution_count": 13,
   "id": "35a5815f",
   "metadata": {},
   "outputs": [],
   "source": [
    "def get_image(url_1,url_2,url_3,url_4):\n",
    "    \n",
    "    # Contructing URL from Arguments\n",
    "    ct = date.today().strftime('%m/%d/%Y') # MM/DD/YYYY\n",
    "    url = f'https://www.cocorahs.org/Maps/GetMap.aspx?state={url_1}&county={url_2}&type=stations&date={ct}&cp=0'\n",
    "    try:\n",
    "        response = requests.get(url)\n",
    "    except:\n",
    "        print(\"Error: While requesting url: {0}\".format(url))\n",
    "        exit(1)\n",
    "\n",
    "    # Save Images within the URL to the current directory\n",
    "    if response:\n",
    "        if check_for_image(response):\n",
    "            extension = os.path.basename(response.headers['Content-Type'])\n",
    "            if 'content-disposition' in response.headers:\n",
    "                content_disposition = response.headers['content-disposition']\n",
    "                filename = re.findall(\"filename=(.+)\", content_disposition)\n",
    "            elif url[-4:] in ['.png', '.jpg', 'jpeg', '.svg']:\n",
    "                filename = os.path.basename(url)\n",
    "            else:\n",
    "                filename = f'CoCoRaHS Station Map from {url_4}, {url_3}.{extension}'\n",
    "            with open(filename, 'wb+') as wobj:\n",
    "                wobj.write(response.content)\n",
    "            print(\"Success: Image is saved with name: {0}\".format(filename))\n",
    "        else:\n",
    "            print(\"Sorry: The url doesn't contain any image :(\")"
   ]
  },
  {
   "cell_type": "code",
   "execution_count": 11,
   "id": "2daacfd2",
   "metadata": {},
   "outputs": [
    {
     "name": "stdout",
     "output_type": "stream",
     "text": [
      "Image type detected: gif\n",
      "Success: Image is saved with name: CoCoRaHS Station Map from La Salle, Illinois.gif\n"
     ]
    }
   ],
   "source": [
    "import time\n",
    "import requests\n",
    "import re\n",
    "import os\n",
    "import sys\n",
    "import imghdr\n",
    "import datetime\n",
    "from datetime import datetime, timedelta, date\n",
    "from time import gmtime, strftime\n",
    "\n",
    "state_code = 'IL' # One State at a time...\n",
    "county_code = 'LS' # One County at a time...\n",
    "full_state_code = 'Illinois' # One State at a time...\n",
    "full_county_code = 'La Salle' # One County at a time...\n",
    "\n",
    "get_image(state_code,county_code,full_state_code,full_county_code)"
   ]
  },
  {
   "cell_type": "markdown",
   "id": "a8c53705",
   "metadata": {},
   "source": [
    "England - 1 | 20230928"
   ]
  }
 ],
 "metadata": {
  "kernelspec": {
   "display_name": "Python 3 (ipykernel)",
   "language": "python",
   "name": "python3"
  },
  "language_info": {
   "codemirror_mode": {
    "name": "ipython",
    "version": 3
   },
   "file_extension": ".py",
   "mimetype": "text/x-python",
   "name": "python",
   "nbconvert_exporter": "python",
   "pygments_lexer": "ipython3",
   "version": "3.10.9"
  }
 },
 "nbformat": 4,
 "nbformat_minor": 5
}
